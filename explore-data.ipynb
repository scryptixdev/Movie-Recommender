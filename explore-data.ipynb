{
 "cells": [
  {
   "cell_type": "code",
   "execution_count": null,
   "metadata": {
    "_cell_guid": "b1076dfc-b9ad-4769-8c92-a6c4dae69d19",
    "_uuid": "8f2839f25d086af736a60e9eeb907d3b93b6e0e5",
    "trusted": true
   },
   "outputs": [],
   "source": [
    "# This Python 3 environment comes with many helpful analytics libraries installed\n",
    "# It is defined by the kaggle/python Docker image: https://github.com/kaggle/docker-python\n",
    "# For example, here's several helpful packages to load\n",
    "\n",
    "import numpy as np # linear algebra\n",
    "import pandas as pd # data processing, CSV file I/O (e.g. pd.read_csv)\n",
    "\n",
    "# Input data files are available in the read-only \"../input/\" directory\n",
    "# For example, running this (by clicking run or pressing Shift+Enter) will list all files under the input directory\n",
    "\n",
    "import os\n",
    "for dirname, _, filenames in os.walk('/kaggle/input'):\n",
    "    for filename in filenames:\n",
    "        print(os.path.join(dirname, filename))\n",
    "\n",
    "# You can write up to 20GB to the current directory (/kaggle/working/) that gets preserved as output when you create a version using \"Save & Run All\" \n",
    "# You can also write temporary files to /kaggle/temp/, but they won't be saved outside of the current session"
   ]
  },
  {
   "cell_type": "markdown",
   "metadata": {},
   "source": [
    "# 🎬 Netflix Prize Dataset – Deep Data Exploration\n",
    "\n",
    "In this notebook we will:\n",
    "- Parse the Netflix Prize dataset into a clean table\n",
    "- Explore **user behavior** and **movie behavior** in depth\n",
    "- Reveal hidden patterns that influence how we build a recommender model\n",
    "- Explain why each exploration matters for later model development\n",
    "\n",
    "By the end, you’ll understand:\n",
    "- The shape and sparsity of the rating matrix\n",
    "- How active different users are\n",
    "- How popular movies are distributed\n",
    "- How time (date of rating) might affect models"
   ]
  },
  {
   "cell_type": "code",
   "execution_count": 1,
   "metadata": {
    "execution": {
     "iopub.execute_input": "2025-09-07T13:09:24.096583Z",
     "iopub.status.busy": "2025-09-07T13:09:24.096290Z",
     "iopub.status.idle": "2025-09-07T13:09:26.299656Z",
     "shell.execute_reply": "2025-09-07T13:09:26.298441Z",
     "shell.execute_reply.started": "2025-09-07T13:09:24.096552Z"
    },
    "trusted": true
   },
   "outputs": [],
   "source": [
    "import pandas as pd\n",
    "import numpy as np\n",
    "import matplotlib.pyplot as plt\n",
    "\n",
    "plt.style.use('seaborn-v0_8')\n"
   ]
  },
  {
   "cell_type": "code",
   "execution_count": 3,
   "metadata": {
    "execution": {
     "iopub.execute_input": "2025-09-07T13:16:08.866554Z",
     "iopub.status.busy": "2025-09-07T13:16:08.865294Z",
     "iopub.status.idle": "2025-09-07T13:16:16.944694Z",
     "shell.execute_reply": "2025-09-07T13:16:16.943546Z",
     "shell.execute_reply.started": "2025-09-07T13:16:08.866516Z"
    },
    "trusted": true
   },
   "outputs": [
    {
     "data": {
      "text/html": [
       "<div>\n",
       "<style scoped>\n",
       "    .dataframe tbody tr th:only-of-type {\n",
       "        vertical-align: middle;\n",
       "    }\n",
       "\n",
       "    .dataframe tbody tr th {\n",
       "        vertical-align: top;\n",
       "    }\n",
       "\n",
       "    .dataframe thead th {\n",
       "        text-align: right;\n",
       "    }\n",
       "</style>\n",
       "<table border=\"1\" class=\"dataframe\">\n",
       "  <thead>\n",
       "    <tr style=\"text-align: right;\">\n",
       "      <th></th>\n",
       "      <th>Raw</th>\n",
       "    </tr>\n",
       "  </thead>\n",
       "  <tbody>\n",
       "    <tr>\n",
       "      <th>0</th>\n",
       "      <td>1:\\n</td>\n",
       "    </tr>\n",
       "    <tr>\n",
       "      <th>1</th>\n",
       "      <td>1488844,3,2005-09-06\\n</td>\n",
       "    </tr>\n",
       "    <tr>\n",
       "      <th>2</th>\n",
       "      <td>822109,5,2005-05-13\\n</td>\n",
       "    </tr>\n",
       "    <tr>\n",
       "      <th>3</th>\n",
       "      <td>885013,4,2005-10-19\\n</td>\n",
       "    </tr>\n",
       "    <tr>\n",
       "      <th>4</th>\n",
       "      <td>30878,4,2005-12-26\\n</td>\n",
       "    </tr>\n",
       "    <tr>\n",
       "      <th>5</th>\n",
       "      <td>823519,3,2004-05-03\\n</td>\n",
       "    </tr>\n",
       "    <tr>\n",
       "      <th>6</th>\n",
       "      <td>893988,3,2005-11-17\\n</td>\n",
       "    </tr>\n",
       "    <tr>\n",
       "      <th>7</th>\n",
       "      <td>124105,4,2004-08-05\\n</td>\n",
       "    </tr>\n",
       "    <tr>\n",
       "      <th>8</th>\n",
       "      <td>1248029,3,2004-04-22\\n</td>\n",
       "    </tr>\n",
       "    <tr>\n",
       "      <th>9</th>\n",
       "      <td>1842128,4,2004-05-09\\n</td>\n",
       "    </tr>\n",
       "  </tbody>\n",
       "</table>\n",
       "</div>"
      ],
      "text/plain": [
       "                      Raw\n",
       "0                    1:\\n\n",
       "1  1488844,3,2005-09-06\\n\n",
       "2   822109,5,2005-05-13\\n\n",
       "3   885013,4,2005-10-19\\n\n",
       "4    30878,4,2005-12-26\\n\n",
       "5   823519,3,2004-05-03\\n\n",
       "6   893988,3,2005-11-17\\n\n",
       "7   124105,4,2004-08-05\\n\n",
       "8  1248029,3,2004-04-22\\n\n",
       "9  1842128,4,2004-05-09\\n"
      ]
     },
     "execution_count": 3,
     "metadata": {},
     "output_type": "execute_result"
    }
   ],
   "source": [
    "ratings_file = \"/kaggle/input/netflix-prize-data/combined_data_1.txt\"\n",
    "movies_file = \"/kaggle/input/netflix-prize-data/movie_titles.csv\"\n",
    "\n",
    "# Read raw lines as text (handles mixed format safely)\n",
    "with open(ratings_file, 'r') as f:\n",
    "    raw_lines = f.readlines()\n",
    "\n",
    "# Wrap into a DataFrame to keep the for-loop logic the same\n",
    "ratings_raw = pd.DataFrame(raw_lines, columns=['Raw'])\n",
    "ratings_raw.head(10)\n"
   ]
  },
  {
   "cell_type": "code",
   "execution_count": 4,
   "metadata": {
    "execution": {
     "iopub.execute_input": "2025-09-07T13:16:34.087937Z",
     "iopub.status.busy": "2025-09-07T13:16:34.087553Z",
     "iopub.status.idle": "2025-09-07T13:18:12.817122Z",
     "shell.execute_reply": "2025-09-07T13:18:12.816284Z",
     "shell.execute_reply.started": "2025-09-07T13:16:34.087914Z"
    },
    "trusted": true
   },
   "outputs": [
    {
     "data": {
      "text/html": [
       "<div>\n",
       "<style scoped>\n",
       "    .dataframe tbody tr th:only-of-type {\n",
       "        vertical-align: middle;\n",
       "    }\n",
       "\n",
       "    .dataframe tbody tr th {\n",
       "        vertical-align: top;\n",
       "    }\n",
       "\n",
       "    .dataframe thead th {\n",
       "        text-align: right;\n",
       "    }\n",
       "</style>\n",
       "<table border=\"1\" class=\"dataframe\">\n",
       "  <thead>\n",
       "    <tr style=\"text-align: right;\">\n",
       "      <th></th>\n",
       "      <th>UserID</th>\n",
       "      <th>MovieID</th>\n",
       "      <th>Rating</th>\n",
       "      <th>Date</th>\n",
       "    </tr>\n",
       "  </thead>\n",
       "  <tbody>\n",
       "    <tr>\n",
       "      <th>0</th>\n",
       "      <td>1488844</td>\n",
       "      <td>1</td>\n",
       "      <td>3</td>\n",
       "      <td>2005-09-06</td>\n",
       "    </tr>\n",
       "    <tr>\n",
       "      <th>1</th>\n",
       "      <td>822109</td>\n",
       "      <td>1</td>\n",
       "      <td>5</td>\n",
       "      <td>2005-05-13</td>\n",
       "    </tr>\n",
       "    <tr>\n",
       "      <th>2</th>\n",
       "      <td>885013</td>\n",
       "      <td>1</td>\n",
       "      <td>4</td>\n",
       "      <td>2005-10-19</td>\n",
       "    </tr>\n",
       "    <tr>\n",
       "      <th>3</th>\n",
       "      <td>30878</td>\n",
       "      <td>1</td>\n",
       "      <td>4</td>\n",
       "      <td>2005-12-26</td>\n",
       "    </tr>\n",
       "    <tr>\n",
       "      <th>4</th>\n",
       "      <td>823519</td>\n",
       "      <td>1</td>\n",
       "      <td>3</td>\n",
       "      <td>2004-05-03</td>\n",
       "    </tr>\n",
       "  </tbody>\n",
       "</table>\n",
       "</div>"
      ],
      "text/plain": [
       "    UserID  MovieID  Rating       Date\n",
       "0  1488844        1       3 2005-09-06\n",
       "1   822109        1       5 2005-05-13\n",
       "2   885013        1       4 2005-10-19\n",
       "3    30878        1       4 2005-12-26\n",
       "4   823519        1       3 2004-05-03"
      ]
     },
     "execution_count": 4,
     "metadata": {},
     "output_type": "execute_result"
    }
   ],
   "source": [
    "movie_id = None\n",
    "data = []\n",
    "for row in ratings_raw['Raw']:\n",
    "    row = row.strip()\n",
    "    if row.endswith(':'):\n",
    "        movie_id = int(row[:-1])\n",
    "    else:\n",
    "        parts = row.split(',')\n",
    "        data.append([int(parts[0]), movie_id, int(parts[1]), parts[2]])\n",
    "\n",
    "ratings_df = pd.DataFrame(data, columns=['UserID','MovieID','Rating','Date'])\n",
    "ratings_df['Date'] = pd.to_datetime(ratings_df['Date'])\n",
    "ratings_df.head()\n"
   ]
  },
  {
   "cell_type": "code",
   "execution_count": 6,
   "metadata": {
    "execution": {
     "iopub.execute_input": "2025-09-07T13:20:53.679595Z",
     "iopub.status.busy": "2025-09-07T13:20:53.679045Z",
     "iopub.status.idle": "2025-09-07T13:22:48.924282Z",
     "shell.execute_reply": "2025-09-07T13:22:48.923180Z",
     "shell.execute_reply.started": "2025-09-07T13:20:53.679564Z"
    },
    "trusted": true
   },
   "outputs": [
    {
     "data": {
      "text/html": [
       "<div>\n",
       "<style scoped>\n",
       "    .dataframe tbody tr th:only-of-type {\n",
       "        vertical-align: middle;\n",
       "    }\n",
       "\n",
       "    .dataframe tbody tr th {\n",
       "        vertical-align: top;\n",
       "    }\n",
       "\n",
       "    .dataframe thead th {\n",
       "        text-align: right;\n",
       "    }\n",
       "</style>\n",
       "<table border=\"1\" class=\"dataframe\">\n",
       "  <thead>\n",
       "    <tr style=\"text-align: right;\">\n",
       "      <th></th>\n",
       "      <th>UserID</th>\n",
       "      <th>MovieID</th>\n",
       "      <th>Rating</th>\n",
       "      <th>Date</th>\n",
       "    </tr>\n",
       "  </thead>\n",
       "  <tbody>\n",
       "    <tr>\n",
       "      <th>0</th>\n",
       "      <td>1488844</td>\n",
       "      <td>1</td>\n",
       "      <td>3</td>\n",
       "      <td>2005-09-06</td>\n",
       "    </tr>\n",
       "    <tr>\n",
       "      <th>1</th>\n",
       "      <td>822109</td>\n",
       "      <td>1</td>\n",
       "      <td>5</td>\n",
       "      <td>2005-05-13</td>\n",
       "    </tr>\n",
       "    <tr>\n",
       "      <th>2</th>\n",
       "      <td>885013</td>\n",
       "      <td>1</td>\n",
       "      <td>4</td>\n",
       "      <td>2005-10-19</td>\n",
       "    </tr>\n",
       "    <tr>\n",
       "      <th>3</th>\n",
       "      <td>30878</td>\n",
       "      <td>1</td>\n",
       "      <td>4</td>\n",
       "      <td>2005-12-26</td>\n",
       "    </tr>\n",
       "    <tr>\n",
       "      <th>4</th>\n",
       "      <td>823519</td>\n",
       "      <td>1</td>\n",
       "      <td>3</td>\n",
       "      <td>2004-05-03</td>\n",
       "    </tr>\n",
       "  </tbody>\n",
       "</table>\n",
       "</div>"
      ],
      "text/plain": [
       "    UserID  MovieID  Rating       Date\n",
       "0  1488844        1       3 2005-09-06\n",
       "1   822109        1       5 2005-05-13\n",
       "2   885013        1       4 2005-10-19\n",
       "3    30878        1       4 2005-12-26\n",
       "4   823519        1       3 2004-05-03"
      ]
     },
     "execution_count": 6,
     "metadata": {},
     "output_type": "execute_result"
    }
   ],
   "source": [
    "movie_id = None\n",
    "data = []\n",
    "\n",
    "for row in ratings_raw['Raw']:\n",
    "    row = row.strip()  # remove whitespace and newline\n",
    "    if row.endswith(':'):  # movie id line\n",
    "        movie_id = int(row[:-1])  # remove colon and convert to int\n",
    "    elif row:  # skip empty lines\n",
    "        parts = row.split(',')\n",
    "        if len(parts) == 3:  # valid rating line\n",
    "            try:\n",
    "                user_id = int(parts[0])\n",
    "                rating = int(parts[1])\n",
    "                date = parts[2]\n",
    "                data.append([user_id, movie_id, rating, date])\n",
    "            except ValueError:\n",
    "                continue  # skip malformed line\n",
    "\n",
    "ratings_df = pd.DataFrame(data, columns=['UserID','MovieID','Rating','Date'])\n",
    "ratings_df['Date'] = pd.to_datetime(ratings_df['Date'])\n",
    "ratings_df.head()\n"
   ]
  },
  {
   "cell_type": "code",
   "execution_count": 8,
   "metadata": {
    "execution": {
     "iopub.execute_input": "2025-09-07T13:24:34.474105Z",
     "iopub.status.busy": "2025-09-07T13:24:34.473702Z",
     "iopub.status.idle": "2025-09-07T13:24:34.554705Z",
     "shell.execute_reply": "2025-09-07T13:24:34.553674Z",
     "shell.execute_reply.started": "2025-09-07T13:24:34.474078Z"
    },
    "trusted": true
   },
   "outputs": [
    {
     "name": "stdout",
     "output_type": "stream",
     "text": [
      "Movies loaded: 17434\n"
     ]
    },
    {
     "data": {
      "text/html": [
       "<div>\n",
       "<style scoped>\n",
       "    .dataframe tbody tr th:only-of-type {\n",
       "        vertical-align: middle;\n",
       "    }\n",
       "\n",
       "    .dataframe tbody tr th {\n",
       "        vertical-align: top;\n",
       "    }\n",
       "\n",
       "    .dataframe thead th {\n",
       "        text-align: right;\n",
       "    }\n",
       "</style>\n",
       "<table border=\"1\" class=\"dataframe\">\n",
       "  <thead>\n",
       "    <tr style=\"text-align: right;\">\n",
       "      <th></th>\n",
       "      <th>MovieID</th>\n",
       "      <th>Year</th>\n",
       "      <th>Title</th>\n",
       "    </tr>\n",
       "  </thead>\n",
       "  <tbody>\n",
       "    <tr>\n",
       "      <th>0</th>\n",
       "      <td>1</td>\n",
       "      <td>2003.0</td>\n",
       "      <td>Dinosaur Planet</td>\n",
       "    </tr>\n",
       "    <tr>\n",
       "      <th>1</th>\n",
       "      <td>2</td>\n",
       "      <td>2004.0</td>\n",
       "      <td>Isle of Man TT 2004 Review</td>\n",
       "    </tr>\n",
       "    <tr>\n",
       "      <th>2</th>\n",
       "      <td>3</td>\n",
       "      <td>1997.0</td>\n",
       "      <td>Character</td>\n",
       "    </tr>\n",
       "    <tr>\n",
       "      <th>3</th>\n",
       "      <td>4</td>\n",
       "      <td>1994.0</td>\n",
       "      <td>Paula Abdul's Get Up &amp; Dance</td>\n",
       "    </tr>\n",
       "    <tr>\n",
       "      <th>4</th>\n",
       "      <td>5</td>\n",
       "      <td>2004.0</td>\n",
       "      <td>The Rise and Fall of ECW</td>\n",
       "    </tr>\n",
       "  </tbody>\n",
       "</table>\n",
       "</div>"
      ],
      "text/plain": [
       "   MovieID    Year                         Title\n",
       "0        1  2003.0               Dinosaur Planet\n",
       "1        2  2004.0    Isle of Man TT 2004 Review\n",
       "2        3  1997.0                     Character\n",
       "3        4  1994.0  Paula Abdul's Get Up & Dance\n",
       "4        5  2004.0      The Rise and Fall of ECW"
      ]
     },
     "execution_count": 8,
     "metadata": {},
     "output_type": "execute_result"
    }
   ],
   "source": [
    "movies_df = pd.read_csv(\n",
    "    movies_file,\n",
    "    header=None,\n",
    "    names=['MovieID', 'Year', 'Title'],\n",
    "    encoding='ISO-8859-1',\n",
    "    engine='python',     # more robust parser\n",
    "    quotechar='\"',       # handle commas inside titles\n",
    "    on_bad_lines='skip'  # skip any truly malformed rows\n",
    ")\n",
    "\n",
    "print(f\"Movies loaded: {len(movies_df)}\")\n",
    "movies_df.head()\n"
   ]
  },
  {
   "cell_type": "code",
   "execution_count": 9,
   "metadata": {
    "execution": {
     "iopub.execute_input": "2025-09-07T13:24:46.214069Z",
     "iopub.status.busy": "2025-09-07T13:24:46.213691Z",
     "iopub.status.idle": "2025-09-07T13:24:48.449945Z",
     "shell.execute_reply": "2025-09-07T13:24:48.448934Z",
     "shell.execute_reply.started": "2025-09-07T13:24:46.214045Z"
    },
    "trusted": true
   },
   "outputs": [
    {
     "name": "stdout",
     "output_type": "stream",
     "text": [
      "Merged dataset shape: (24053764, 6)\n"
     ]
    },
    {
     "data": {
      "text/html": [
       "<div>\n",
       "<style scoped>\n",
       "    .dataframe tbody tr th:only-of-type {\n",
       "        vertical-align: middle;\n",
       "    }\n",
       "\n",
       "    .dataframe tbody tr th {\n",
       "        vertical-align: top;\n",
       "    }\n",
       "\n",
       "    .dataframe thead th {\n",
       "        text-align: right;\n",
       "    }\n",
       "</style>\n",
       "<table border=\"1\" class=\"dataframe\">\n",
       "  <thead>\n",
       "    <tr style=\"text-align: right;\">\n",
       "      <th></th>\n",
       "      <th>UserID</th>\n",
       "      <th>MovieID</th>\n",
       "      <th>Rating</th>\n",
       "      <th>Date</th>\n",
       "      <th>Year</th>\n",
       "      <th>Title</th>\n",
       "    </tr>\n",
       "  </thead>\n",
       "  <tbody>\n",
       "    <tr>\n",
       "      <th>0</th>\n",
       "      <td>1488844</td>\n",
       "      <td>1</td>\n",
       "      <td>3</td>\n",
       "      <td>2005-09-06</td>\n",
       "      <td>2003.0</td>\n",
       "      <td>Dinosaur Planet</td>\n",
       "    </tr>\n",
       "    <tr>\n",
       "      <th>1</th>\n",
       "      <td>822109</td>\n",
       "      <td>1</td>\n",
       "      <td>5</td>\n",
       "      <td>2005-05-13</td>\n",
       "      <td>2003.0</td>\n",
       "      <td>Dinosaur Planet</td>\n",
       "    </tr>\n",
       "    <tr>\n",
       "      <th>2</th>\n",
       "      <td>885013</td>\n",
       "      <td>1</td>\n",
       "      <td>4</td>\n",
       "      <td>2005-10-19</td>\n",
       "      <td>2003.0</td>\n",
       "      <td>Dinosaur Planet</td>\n",
       "    </tr>\n",
       "    <tr>\n",
       "      <th>3</th>\n",
       "      <td>30878</td>\n",
       "      <td>1</td>\n",
       "      <td>4</td>\n",
       "      <td>2005-12-26</td>\n",
       "      <td>2003.0</td>\n",
       "      <td>Dinosaur Planet</td>\n",
       "    </tr>\n",
       "    <tr>\n",
       "      <th>4</th>\n",
       "      <td>823519</td>\n",
       "      <td>1</td>\n",
       "      <td>3</td>\n",
       "      <td>2004-05-03</td>\n",
       "      <td>2003.0</td>\n",
       "      <td>Dinosaur Planet</td>\n",
       "    </tr>\n",
       "  </tbody>\n",
       "</table>\n",
       "</div>"
      ],
      "text/plain": [
       "    UserID  MovieID  Rating       Date    Year            Title\n",
       "0  1488844        1       3 2005-09-06  2003.0  Dinosaur Planet\n",
       "1   822109        1       5 2005-05-13  2003.0  Dinosaur Planet\n",
       "2   885013        1       4 2005-10-19  2003.0  Dinosaur Planet\n",
       "3    30878        1       4 2005-12-26  2003.0  Dinosaur Planet\n",
       "4   823519        1       3 2004-05-03  2003.0  Dinosaur Planet"
      ]
     },
     "execution_count": 9,
     "metadata": {},
     "output_type": "execute_result"
    }
   ],
   "source": [
    "df = ratings_df.merge(movies_df, on='MovieID', how='left')\n",
    "print(\"Merged dataset shape:\", df.shape)\n",
    "df.head()\n"
   ]
  },
  {
   "cell_type": "code",
   "execution_count": 10,
   "metadata": {
    "execution": {
     "iopub.execute_input": "2025-09-07T13:24:59.093249Z",
     "iopub.status.busy": "2025-09-07T13:24:59.092897Z",
     "iopub.status.idle": "2025-09-07T13:25:00.122683Z",
     "shell.execute_reply": "2025-09-07T13:25:00.121588Z",
     "shell.execute_reply.started": "2025-09-07T13:24:59.093228Z"
    },
    "trusted": true
   },
   "outputs": [
    {
     "name": "stdout",
     "output_type": "stream",
     "text": [
      "Number of ratings: 24053764\n",
      "Unique users: 470758\n",
      "Unique movies: 4499\n",
      "<class 'pandas.core.frame.DataFrame'>\n",
      "RangeIndex: 24053764 entries, 0 to 24053763\n",
      "Data columns (total 6 columns):\n",
      " #   Column   Dtype         \n",
      "---  ------   -----         \n",
      " 0   UserID   int64         \n",
      " 1   MovieID  int64         \n",
      " 2   Rating   int64         \n",
      " 3   Date     datetime64[ns]\n",
      " 4   Year     float64       \n",
      " 5   Title    object        \n",
      "dtypes: datetime64[ns](1), float64(1), int64(3), object(1)\n",
      "memory usage: 1.1+ GB\n"
     ]
    }
   ],
   "source": [
    "print(\"Number of ratings:\", len(df))\n",
    "print(\"Unique users:\", df['UserID'].nunique())\n",
    "print(\"Unique movies:\", df['MovieID'].nunique())\n",
    "\n",
    "df.info()"
   ]
  },
  {
   "cell_type": "code",
   "execution_count": 14,
   "metadata": {
    "execution": {
     "iopub.execute_input": "2025-09-07T13:26:10.705848Z",
     "iopub.status.busy": "2025-09-07T13:26:10.705425Z",
     "iopub.status.idle": "2025-09-07T13:26:11.036298Z",
     "shell.execute_reply": "2025-09-07T13:26:11.034890Z",
     "shell.execute_reply.started": "2025-09-07T13:26:10.705823Z"
    },
    "trusted": true
   },
   "outputs": [
    {
     "data": {
      "image/png": "[encoded data removed]",
      "text/plain": [
       "<Figure size 600x400 with 1 Axes>"
      ]
     },
     "metadata": {},
     "output_type": "display_data"
    }
   ],
   "source": [
    "rating_counts = df['Rating'].value_counts().sort_index()\n",
    "\n",
    "rating_counts.plot(kind='bar', figsize=(6,4))\n",
    "plt.title('Ratings Distribution')\n",
    "plt.xlabel('Rating')\n",
    "plt.ylabel('Count')\n",
    "plt.show()\n"
   ]
  },
  {
   "cell_type": "code",
   "execution_count": 12,
   "metadata": {
    "execution": {
     "iopub.execute_input": "2025-09-07T13:25:37.632394Z",
     "iopub.status.busy": "2025-09-07T13:25:37.632022Z",
     "iopub.status.idle": "2025-09-07T13:25:40.538734Z",
     "shell.execute_reply": "2025-09-07T13:25:40.537944Z",
     "shell.execute_reply.started": "2025-09-07T13:25:37.632365Z"
    },
    "trusted": true
   },
   "outputs": [
    {
     "data": {
      "image/png": "[encoded data removed]",
      "text/plain": [
       "<Figure size 600x400 with 1 Axes>"
      ]
     },
     "metadata": {},
     "output_type": "display_data"
    },
    {
     "name": "stdout",
     "output_type": "stream",
     "text": [
      "Median ratings per user: 24.0\n",
      "Users with >500 ratings: 1094\n"
     ]
    }
   ],
   "source": [
    "user_activity = df['UserID'].value_counts()\n",
    "\n",
    "user_activity.hist(bins=50, figsize=(6,4))\n",
    "plt.title('User Activity (Ratings per User)')\n",
    "plt.xlabel('Ratings per User')\n",
    "plt.ylabel('Number of Users')\n",
    "plt.show()\n",
    "\n",
    "print(\"Median ratings per user:\", user_activity.median())\n",
    "print(\"Users with >500 ratings:\", (user_activity > 500).sum())\n"
   ]
  },
  {
   "cell_type": "code",
   "execution_count": 15,
   "metadata": {
    "execution": {
     "iopub.execute_input": "2025-09-07T13:26:28.799069Z",
     "iopub.status.busy": "2025-09-07T13:26:28.798741Z",
     "iopub.status.idle": "2025-09-07T13:26:29.236786Z",
     "shell.execute_reply": "2025-09-07T13:26:29.235573Z",
     "shell.execute_reply.started": "2025-09-07T13:26:28.799047Z"
    },
    "trusted": true
   },
   "outputs": [
    {
     "data": {
      "image/png": "[encoded data removed]",
      "text/plain": [
       "<Figure size 600x400 with 1 Axes>"
      ]
     },
     "metadata": {},
     "output_type": "display_data"
    },
    {
     "name": "stdout",
     "output_type": "stream",
     "text": [
      "Median ratings per movie: 552.0\n"
     ]
    }
   ],
   "source": [
    "movie_popularity = df['MovieID'].value_counts()\n",
    "\n",
    "movie_popularity.hist(bins=50, figsize=(6,4))\n",
    "plt.title('Movie Popularity (Ratings per Movie)')\n",
    "plt.xlabel('Ratings per Movie')\n",
    "plt.ylabel('Number of Movies')\n",
    "plt.show()\n",
    "\n",
    "print(\"Median ratings per movie:\", movie_popularity.median())\n"
   ]
  },
  {
   "cell_type": "code",
   "execution_count": 16,
   "metadata": {
    "execution": {
     "iopub.execute_input": "2025-09-07T13:26:39.033029Z",
     "iopub.status.busy": "2025-09-07T13:26:39.032652Z",
     "iopub.status.idle": "2025-09-07T13:26:41.374629Z",
     "shell.execute_reply": "2025-09-07T13:26:41.373630Z",
     "shell.execute_reply.started": "2025-09-07T13:26:39.033006Z"
    },
    "trusted": true
   },
   "outputs": [
    {
     "data": {
      "image/png": "[encoded data removed]",
      "text/plain": [
       "<Figure size 1000x400 with 1 Axes>"
      ]
     },
     "metadata": {},
     "output_type": "display_data"
    }
   ],
   "source": [
    "df['YearMonth'] = df['Date'].dt.to_period('M')\n",
    "ratings_over_time = df.groupby('YearMonth').size()\n",
    "\n",
    "ratings_over_time.plot(figsize=(10,4))\n",
    "plt.title('Number of Ratings Over Time')\n",
    "plt.xlabel('Time')\n",
    "plt.ylabel('Count')\n",
    "plt.show()\n"
   ]
  },
  {
   "cell_type": "code",
   "execution_count": 17,
   "metadata": {
    "execution": {
     "iopub.execute_input": "2025-09-07T13:26:52.351627Z",
     "iopub.status.busy": "2025-09-07T13:26:52.351241Z",
     "iopub.status.idle": "2025-09-07T13:26:53.393903Z",
     "shell.execute_reply": "2025-09-07T13:26:53.392972Z",
     "shell.execute_reply.started": "2025-09-07T13:26:52.351601Z"
    },
    "trusted": true
   },
   "outputs": [
    {
     "name": "stdout",
     "output_type": "stream",
     "text": [
      "Matrix size: 2,117,940,242\n",
      "Number of ratings: 24,053,764\n",
      "Sparsity: 0.9886\n"
     ]
    }
   ],
   "source": [
    "num_users = df['UserID'].nunique()\n",
    "num_movies = df['MovieID'].nunique()\n",
    "matrix_size = num_users * num_movies\n",
    "num_ratings = len(df)\n",
    "sparsity = 1 - (num_ratings / matrix_size)\n",
    "\n",
    "print(f\"Matrix size: {matrix_size:,}\")\n",
    "print(f\"Number of ratings: {num_ratings:,}\")\n",
    "print(f\"Sparsity: {sparsity:.4f}\")\n"
   ]
  },
  {
   "cell_type": "code",
   "execution_count": 18,
   "metadata": {
    "execution": {
     "iopub.execute_input": "2025-09-07T13:27:03.936693Z",
     "iopub.status.busy": "2025-09-07T13:27:03.936295Z",
     "iopub.status.idle": "2025-09-07T13:27:03.945444Z",
     "shell.execute_reply": "2025-09-07T13:27:03.944380Z",
     "shell.execute_reply.started": "2025-09-07T13:27:03.936668Z"
    },
    "trusted": true
   },
   "outputs": [
    {
     "name": "stdout",
     "output_type": "stream",
     "text": [
      "Movies with <10 ratings: 0\n",
      "Users with <10 ratings: 129803\n"
     ]
    }
   ],
   "source": [
    "cold_movies = (movie_popularity < 10).sum()\n",
    "print(\"Movies with <10 ratings:\", cold_movies)\n",
    "\n",
    "cold_users = (user_activity < 10).sum()\n",
    "print(\"Users with <10 ratings:\", cold_users)\n"
   ]
  },
  {
   "cell_type": "markdown",
   "metadata": {},
   "source": [
    "## ✅ Key Insights from Exploratory Data Analysis\n",
    "\n",
    "- **Sparsity**: Most user–movie cells are empty, so a sparse matrix approach is needed.\n",
    "- **User Activity**: A few power users, many casual. We might weight or filter accordingly.\n",
    "- **Movie Popularity**: Many movies have very few ratings → cold-start problem.\n",
    "- **Rating Distribution**: Slight skew toward higher ratings. Normalization may help.\n",
    "- **Time Trends**: Ratings volume changes over time.\n",
    "- **Cold Start**: Hybrid or popularity-based models needed for new items/users.\n",
    "\n",
    "These insights directly inform which recommendation approach to use:\n",
    "- Baseline popularity model for cold-start.\n",
    "- Collaborative filtering for active users/items.\n",
    "- Matrix factorization to handle sparsity.\n",
    "- Time-aware or hybrid models for evolving data.\n"
   ]
  }
 ],
 "metadata": {
  "kaggle": {
   "accelerator": "none",
   "dataSources": [
    {
     "datasetId": 1636,
     "sourceId": 792972,
     "sourceType": "datasetVersion"
    }
   ],
   "dockerImageVersionId": 31089,
   "isGpuEnabled": false,
   "isInternetEnabled": false,
   "language": "python",
   "sourceType": "notebook"
  },
  "kernelspec": {
   "display_name": "Python 3",
   "language": "python",
   "name": "python3"
  },
  "language_info": {
   "codemirror_mode": {
    "name": "ipython",
    "version": 3
   },
   "file_extension": ".py",
   "mimetype": "text/x-python",
   "name": "python",
   "nbconvert_exporter": "python",
   "pygments_lexer": "ipython3",
   "version": "3.11.13"
  }
 },
 "nbformat": 4,
 "nbformat_minor": 4
}
